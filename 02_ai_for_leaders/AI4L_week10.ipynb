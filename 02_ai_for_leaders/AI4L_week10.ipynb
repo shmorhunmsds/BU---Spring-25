{
 "cells": [
  {
   "cell_type": "markdown",
   "id": "e8316037",
   "metadata": {},
   "source": [
    "# Week 11 Overview\n",
    "In the previous week, you examined modeling using cross-validation and hyperparameter tuning. This time, you will use these methods on your own datasets.\n",
    "\n",
    "### Learning Objectives\n",
    "At the end of this week, you should be able to:\n",
    "\n",
    "Apply principles of data visualization/design principles to create various types of visual elements\n",
    "Implement models (i.e., Correlation coefficients and linear regression) \n",
    "Reproduce a graph/data visualization from an example graph/data visualization\n",
    "\n",
    "**There will be no full lesson this week, except for the assigned reading.** This week, you will continue your reading of the assigned text, and reflect on the questions provided below. We have opted not to have a full lesson this week so that you can use the additional time to focus on preparing to submit your final project or to meet with your group to discuss your work and their feedback. We encourage you to take time this week to:\n",
    "\n",
    "- Read and reflect on the text and questions below.\n",
    "- Complete this week’s homework activity\n",
    "- Review your notes from previous weeks and your peers' feedback, then edit your final project.\n",
    "- Meet with your group to discuss ongoing work and learn from each other.\n",
    "- Prepare any questions you may have for the instructors ahead of the live session.\n",
    "\n"
   ]
  }
 ],
 "metadata": {
  "language_info": {
   "name": "python"
  }
 },
 "nbformat": 4,
 "nbformat_minor": 5
}
