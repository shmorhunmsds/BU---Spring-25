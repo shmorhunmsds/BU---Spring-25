{
 "cells": [
  {
   "cell_type": "markdown",
   "metadata": {},
   "source": [
    "# Week 1 Overview \n",
    "As a data scientist, you will often have possession of a dataset that you know almost nothing about. The features could have cryptic names like “MetricCode” or “CategoryLabel,” and you will need to figure out what is happening with each feature. You might find something wrong with the data values. For example, the data could show some people having negative ages (minus 10 years old) or show children being older than their parents. There might be missing values or duplicated rows. \n",
    "\n",
    "This week, you will work with a dataset about bank customers. You will analyze and summarize the data to identify any problems with the data, and you will fix the problems. You will also learn how to use Google, documentation, and ChatGPT to develop programming skills.\n",
    "\n",
    "## Learning Objectives\n",
    "At the end of this week, you should be able to:\n",
    "\n",
    "- Describe the importance of using data (data storytelling) in making information accessible to a wider audience\n",
    "- Extract important data/dataset from an unconventional format (pivot table, etc.)\n",
    "- Apply descriptive statistics to real-world data/datasets\n",
    "- Identify data quality issues of a given dataset \n",
    "- Explain how data quality issues impact the effective use/display of the data\n",
    "- Describe effective (good) and ineffective (bad) graphs\n",
    "- Create data visualizations using Matplotlib\n",
    "- Reproduce a graph/data visualization from an example graph/data visualization\n",
    "- Analyze existing data visualizations to identify strengths and weaknesses \n",
    "- Apply principles from Storytelling with Data (SWD) to create graphs\n",
    "\n",
    "### Key Terms\n",
    "- **Inconsistent data:** data that don’t make sense in some way, such as a person who is supposed to be twenty feet tall or one thousand years old\n",
    "- **Duplicate rows:** two rows that contain exactly the same data\n",
    "- **Imputing a value:** inserting a value into a dataset where one is missing"
   ]
  },
  {
   "cell_type": "markdown",
   "metadata": {},
   "source": [
    "## 1.1 Lesson: How to Locate Information about Python Programming\n",
    "\n",
    "### Preprocessing\n",
    "If running the cells in a notebook that are included in this lesson, you would need to import the following:"
   ]
  },
  {
   "cell_type": "code",
   "execution_count": 2,
   "metadata": {},
   "outputs": [],
   "source": [
    "import pandas as pd\n",
    "import numpy as np\n",
    "\n",
    "from datetime import datetime, timedelta"
   ]
  },
  {
   "cell_type": "markdown",
   "metadata": {},
   "source": [
    "Let's consider a few possible ways to learn about Python programming. Let's suppose you want to learn how to produce a short summary of the information in your DataFrame.\n",
    "\n",
    "### 1. Your instructor could provide the information.\n",
    "\n",
    "You could be provided with a lesson about functions like info() and describe(). If you have a pandas DataFrame called df, then you can summarize its contents using df.info() or df.describe(). df.info() provides a list of column names with their counts and data types. df.describe() will provide information such as the mean, min, max, standard deviation, and quantiles. Thus:"
   ]
  },
  {
   "cell_type": "code",
   "execution_count": 3,
   "metadata": {},
   "outputs": [
    {
     "data": {
      "text/html": [
       "<div>\n",
       "<style scoped>\n",
       "    .dataframe tbody tr th:only-of-type {\n",
       "        vertical-align: middle;\n",
       "    }\n",
       "\n",
       "    .dataframe tbody tr th {\n",
       "        vertical-align: top;\n",
       "    }\n",
       "\n",
       "    .dataframe thead th {\n",
       "        text-align: right;\n",
       "    }\n",
       "</style>\n",
       "<table border=\"1\" class=\"dataframe\">\n",
       "  <thead>\n",
       "    <tr style=\"text-align: right;\">\n",
       "      <th></th>\n",
       "      <th>A</th>\n",
       "      <th>B</th>\n",
       "    </tr>\n",
       "  </thead>\n",
       "  <tbody>\n",
       "    <tr>\n",
       "      <th>count</th>\n",
       "      <td>4.000000</td>\n",
       "      <td>4.000000</td>\n",
       "    </tr>\n",
       "    <tr>\n",
       "      <th>mean</th>\n",
       "      <td>2.500000</td>\n",
       "      <td>5.500000</td>\n",
       "    </tr>\n",
       "    <tr>\n",
       "      <th>std</th>\n",
       "      <td>1.290994</td>\n",
       "      <td>1.290994</td>\n",
       "    </tr>\n",
       "    <tr>\n",
       "      <th>min</th>\n",
       "      <td>1.000000</td>\n",
       "      <td>4.000000</td>\n",
       "    </tr>\n",
       "    <tr>\n",
       "      <th>25%</th>\n",
       "      <td>1.750000</td>\n",
       "      <td>4.750000</td>\n",
       "    </tr>\n",
       "    <tr>\n",
       "      <th>50%</th>\n",
       "      <td>2.500000</td>\n",
       "      <td>5.500000</td>\n",
       "    </tr>\n",
       "    <tr>\n",
       "      <th>75%</th>\n",
       "      <td>3.250000</td>\n",
       "      <td>6.250000</td>\n",
       "    </tr>\n",
       "    <tr>\n",
       "      <th>max</th>\n",
       "      <td>4.000000</td>\n",
       "      <td>7.000000</td>\n",
       "    </tr>\n",
       "  </tbody>\n",
       "</table>\n",
       "</div>"
      ],
      "text/plain": [
       "              A         B\n",
       "count  4.000000  4.000000\n",
       "mean   2.500000  5.500000\n",
       "std    1.290994  1.290994\n",
       "min    1.000000  4.000000\n",
       "25%    1.750000  4.750000\n",
       "50%    2.500000  5.500000\n",
       "75%    3.250000  6.250000\n",
       "max    4.000000  7.000000"
      ]
     },
     "execution_count": 3,
     "metadata": {},
     "output_type": "execute_result"
    }
   ],
   "source": [
    "df = pd.DataFrame([[1, 4], [2, 5], [3, 6], [4, 7]], columns = ['A', 'B'])\n",
    "df.describe()"
   ]
  },
  {
   "cell_type": "markdown",
   "metadata": {},
   "source": [
    "In this describe() result, we see that the two columns A and B have three elements. The means and other statistics are shown.\n",
    "\n",
    "### 2. You could look up the information on Google.\n",
    "\n",
    "If I Google the question, \"How do I briefly summarize the contents of a dataframe using Python?\" I receive the following link (among others), which discusses the describe() command mentioned above:\n",
    "\n",
    "https://www.w3schools.com/python/pandas/ref_df_describe.asp\n",
    "\n",
    "It also provides the complete usage information:\n",
    "\n",
    "dataframe.describe(percentiles, include, exclude, datetime_is_numeric)\n",
    "\n",
    "It explains that percentiles is set by default to [0.25, 0.5, 0.75] but we could change that. \n",
    "\n",
    "Let's try it! \n",
    "\n",
    "Since there are three intervals here rather than four, it might be more meaningful to ask about a 33rd and 67th percentile rather than 25, 50, and 75. We can use 1/3 for 0.33 and 2/3 for 0.67 to get the exact percentile values."
   ]
  },
  {
   "cell_type": "code",
   "execution_count": 4,
   "metadata": {},
   "outputs": [
    {
     "data": {
      "text/html": [
       "<div>\n",
       "<style scoped>\n",
       "    .dataframe tbody tr th:only-of-type {\n",
       "        vertical-align: middle;\n",
       "    }\n",
       "\n",
       "    .dataframe tbody tr th {\n",
       "        vertical-align: top;\n",
       "    }\n",
       "\n",
       "    .dataframe thead th {\n",
       "        text-align: right;\n",
       "    }\n",
       "</style>\n",
       "<table border=\"1\" class=\"dataframe\">\n",
       "  <thead>\n",
       "    <tr style=\"text-align: right;\">\n",
       "      <th></th>\n",
       "      <th>A</th>\n",
       "      <th>B</th>\n",
       "    </tr>\n",
       "  </thead>\n",
       "  <tbody>\n",
       "    <tr>\n",
       "      <th>count</th>\n",
       "      <td>4.000000</td>\n",
       "      <td>4.000000</td>\n",
       "    </tr>\n",
       "    <tr>\n",
       "      <th>mean</th>\n",
       "      <td>2.500000</td>\n",
       "      <td>5.500000</td>\n",
       "    </tr>\n",
       "    <tr>\n",
       "      <th>std</th>\n",
       "      <td>1.290994</td>\n",
       "      <td>1.290994</td>\n",
       "    </tr>\n",
       "    <tr>\n",
       "      <th>min</th>\n",
       "      <td>1.000000</td>\n",
       "      <td>4.000000</td>\n",
       "    </tr>\n",
       "    <tr>\n",
       "      <th>33.3%</th>\n",
       "      <td>2.000000</td>\n",
       "      <td>5.000000</td>\n",
       "    </tr>\n",
       "    <tr>\n",
       "      <th>50%</th>\n",
       "      <td>2.500000</td>\n",
       "      <td>5.500000</td>\n",
       "    </tr>\n",
       "    <tr>\n",
       "      <th>66.7%</th>\n",
       "      <td>3.000000</td>\n",
       "      <td>6.000000</td>\n",
       "    </tr>\n",
       "    <tr>\n",
       "      <th>max</th>\n",
       "      <td>4.000000</td>\n",
       "      <td>7.000000</td>\n",
       "    </tr>\n",
       "  </tbody>\n",
       "</table>\n",
       "</div>"
      ],
      "text/plain": [
       "              A         B\n",
       "count  4.000000  4.000000\n",
       "mean   2.500000  5.500000\n",
       "std    1.290994  1.290994\n",
       "min    1.000000  4.000000\n",
       "33.3%  2.000000  5.000000\n",
       "50%    2.500000  5.500000\n",
       "66.7%  3.000000  6.000000\n",
       "max    4.000000  7.000000"
      ]
     },
     "execution_count": 4,
     "metadata": {},
     "output_type": "execute_result"
    }
   ],
   "source": [
    "df = pd.DataFrame([[1, 4], [2, 5], [3, 6], [4, 7]], columns = ['A', 'B'])\n",
    "df.describe(percentiles = [1/3, 2/3])"
   ]
  },
  {
   "cell_type": "markdown",
   "metadata": {},
   "source": [
    "Apparently, the 50% value (the median) stays even though we did not specifically request it.\n",
    "\n",
    "### 3. You could look up the official documentation.\n",
    "\n",
    "Now that we know we want the pandas describe() function, try Googling: pandas documentation describe.\n",
    "\n",
    "Here is the general documentation page for pandas:\n",
    "\n",
    "https://pandas.pydata.org/docs/index.html\n",
    "\n",
    "Here is the specific page for the describe() function:\n",
    "\n",
    "https://pandas.pydata.org/docs/reference/api/pandas.DataFrame.describe.html\n",
    "\n",
    "When we look at this, it appears to be showing the most recent version of pandas; this is shown in the upper right corner.\n",
    "\n",
    "### 4. You could also ask ChatGPT.\n",
    "\n",
    "Let's try it. Using ChatGPT, enter the prompt: \"How do I briefly summarize the contents of a dataframe using Python?\"\n",
    "\n",
    "When we do this, ChatGPT mentions describe() among other options but does not go into detail. However, we could ask it. ChatGPT, \"Tell me more about describe() in Python for summarizing dataframes.\"\n",
    "\n",
    "Then, we get a good explanation of describe(), although it does not mention the percentiles option. One advantage of using Google or the documentation in addition to ChatGPT is that these sources may provide interesting information that does not directly answer our question. Thus, we might not have known about the various arguments, such as percentiles, if we only used ChatGPT. A second issue is that ChatGPT sometimes hallucinates, as in it makes up information. However, the most important advantage is that we can get more information by examining multiple sources such as Google, documentation, and ChatGPT.\n",
    "\n",
    "You will have an opportunity to use the ideas in this lesson in this week's Homework activity."
   ]
  },
  {
   "cell_type": "markdown",
   "metadata": {},
   "source": [
    "### Think About It\n",
    "- What are some advantages and disadvantages of searching via Google to find out how to write code?\n",
    "- What are some advantages and disadvantages of going straight to the documentation?\n",
    "- What are some advantages and disadvantages of using ChatGPT to find out how to write code?"
   ]
  },
  {
   "cell_type": "markdown",
   "metadata": {},
   "source": [
    "### Reading | Knaflic, C. N. (2015). Storytelling with data: A data visualization guide for business professionals. John Wiley & Sons.\n",
    "\n",
    "- Introduction\n",
    "    - Bad graphs are everywhere\n",
    "        - we aren't naturally good at storytelling with data\n",
    "            - Being able to visualize data and tell storys with it is key to turning it into information that can be used to drive better decision making.\n",
    "            - There is a story in your data; it takes you, the communicator, to bring that story visually and contextually to life. The lessons will enable you to shift from simply showing data to storytelling with data. \n",
    "        - Who this book is written for: this book is written for anyone who needs to communicate something to someone using data.\n",
    "        - How you'll learn to tell stories with data - 6 lessons\n",
    "            - Understand the context\n",
    "            - Choose an appropriate visual display\n",
    "            - Eliminate Clutter\n",
    "            - Focus attention where you want it\n",
    "            - Think like a designer \n",
    "            - Tell a story\n",
    "        "
   ]
  },
  {
   "cell_type": "markdown",
   "metadata": {},
   "source": [
    "### Reading | Awasthi, A., Krpalkova, L., & Walsh, J. (2024). Deep Learning-Based Boolean, Time Series, Error Detection, and Predictive Analysis in Container Crane Operations. Algorithms, 17(8), 333. \n",
    "\n",
    "In this article, you will learn about handling inconsistent data - that is, data that does not make sense.\n",
    "\n",
    "#### Inconsistent Data\n",
    "Inconsistent data is data that is inconsistent, conflicted, or incompatible within a dataset or across many datasets. Data inconsistencies can occur for a variety of reasons, including mistakes in data entry, data processing, or data integration. These discrepancies might show as disagreements in data element values, formats, or interpretations. Inconsistent data can lead to faulty analysis, untrustworthy outcomes, and data management challenges.\n",
    "\n",
    "1. Identifying Missing Values\n",
    "2. Handling Missing Values\n",
    "    - Imputation: Imputation: Imputation is the process of filling in missing values. Common imputation methods include mean, median, mode imputation, or more advanced methods like k-Nearest Neighbors (KNN) imputation.\n",
    "3. Detecting and Handling Outliers\n",
    "    - Outlier Detection: Outliers are extreme values that deviate significantly from the majority of data points. Common methods include the IQR method and the Z-score method.\n",
    "    - Handling Outliers: Outliers can be addressed by removing them, transforming the data, or using robust statistical methods that are less sensitive to outliers.\n",
    "4. Standardizing Data Formats\n",
    "    - Data format consistency is essential, especially for date, time, and categorical variables. Use functions like as.Date() or as.factor() to standardize formats. Date variables should adhere to a consistent format to ensure accurate analysis and visualization.\n",
    "5. Dealing with Duplicate Data\n",
    "    - Duplicate rows can distory analysis results. Ensure that you undestand the criteriea for identifying duplicates, as it may depend on specific columns. "
   ]
  },
  {
   "cell_type": "markdown",
   "metadata": {},
   "source": []
  }
 ],
 "metadata": {
  "kernelspec": {
   "display_name": "Python (uv)",
   "language": "python",
   "name": "uv"
  },
  "language_info": {
   "codemirror_mode": {
    "name": "ipython",
    "version": 3
   },
   "file_extension": ".py",
   "mimetype": "text/x-python",
   "name": "python",
   "nbconvert_exporter": "python",
   "pygments_lexer": "ipython3",
   "version": "3.11.7"
  }
 },
 "nbformat": 4,
 "nbformat_minor": 2
}
