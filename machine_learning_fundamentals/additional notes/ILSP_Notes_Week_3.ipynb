{
 "cells": [
  {
   "cell_type": "markdown",
   "metadata": {},
   "source": [
    "# 2.2.1 Measuring the Quality of Fit\n",
    "\n",
    "In order to evaluate the performance of a statistical learning method on\n",
    "a given data set, we need some way to measure how well its predictions\n",
    "actually match the observed data. That is, we need to quantify the extent\n",
    "to which the predicted response value for a given observation is close to\n",
    "the true response value for that observation. In the regression setting, the\n",
    "most commonly-used measure is the mean squared error (MSE), given by \n",
    "\n",
    "$$ MSE \\quad = \\quad \\frac{1}{n} \\sum^n_{i=1}(y_i - \\hat{f} (x_i))^2$$\n",
    "\n",
    "where $\\hat{f}$ is the prediction that $\\hat{f}$ gives for the $ith$ observation. The MSE\n",
    "will be small if the predicted responses are very close to the true responses,\n",
    "and will be large if for some of the observations, the predicted and true\n",
    "responses differ substantially.\n",
    "\n",
    "The MSE in (2.5) is computed using the training data that was used to\n",
    "fit the model, and so should more accurately be referred to as the training\n",
    "MSE. \n",
    "\n",
    "But in general, we do not really care how well the method works \n",
    "on the training data. \n",
    "\n",
    "Rather, *we are interested in the accuracy of the predictions that we obtain when we apply our method to previously unseen\n",
    "test data.*\n",
    "\n",
    "After a model is generated, we are generally not interested in whether $\\hat{f} \\approx y_i$, \n",
    "\n",
    "> instead we want to know whether $\\hat{f}_0$ i is approximately equal to $y_0$, where $(x_0, y_0) is a *previously unseen test observation not used to train the statistical learning method*.\n",
    "\n",
    "We want to choose the method that gives\n",
    "the lowest test MSE, as opposed to the lowest training MSE. In other words, if we had a large number of test observations, we could compute\n",
    "\n",
    "$$Ave(y_0 - \\hat{f}(x_0))^2$$\n",
    "\n",
    "which is the average squared prediction error for these test observations $(x_0, y_0)$\n",
    "\n",
    "Wheen a given method yields a small training MSE but a large test MSE, we are said to be *overfitting* the data. "
   ]
  },
  {
   "cell_type": "markdown",
   "metadata": {},
   "source": []
  }
 ],
 "metadata": {
  "kernelspec": {
   "display_name": "base",
   "language": "python",
   "name": "python3"
  },
  "language_info": {
   "name": "python",
   "version": "3.11.7"
  }
 },
 "nbformat": 4,
 "nbformat_minor": 2
}
