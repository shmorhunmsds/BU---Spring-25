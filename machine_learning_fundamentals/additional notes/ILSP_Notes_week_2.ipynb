{
 "cells": [
  {
   "cell_type": "markdown",
   "metadata": {},
   "source": [
    "## The bootstrap\n",
    "The bootstrap is a widely applicable and extremely powerful statistical tool that can be used to quantify the uncertainty associated with a given estimator or statistical learning method. As a simple example, the bootstrap\n",
    "can be used to estimate the standard errors of the coefficients from a linear regression fit.  However, the power of the bootstrap lies in the fact that it can be easily applied to a wide range of statistical learning methods including some for which a measure of varisability is otherwise difficult to obtain and is not automatically output by\n",
    "statistical software.\n",
    "\n",
    "### Bootstrap Example\n",
    "-We wish to invest a fixed sum of money in two financial assets that yield returns of $X$ and $Y$, where $X$ and $Y$ are random quantities. \n",
    "\n",
    "We will invest a fraction of our money $\\alpha$ in $X$, and will invest the remaining $1 - \\alpha$ in $Y$, respectively, where $X$ and $Y$ are random quantities.\n",
    "\n",
    "Since there is variability in the returns on these two assets, we wish to choose $\\alpha$ to minimize the total risk or variance of our investment. In other words, we want to minimize $Var(\\alpha X + (1- \\alpha)Y)$.\n",
    "\n",
    "One can show that the value that minimizes the risk is given by:\n",
    "\n",
    "$$ \\alpha \\quad = \\quad \\frac{ \\sigma^2_Y - \\sigma_{XY}}{\\sigma^2_X + \\sigma^2_y -2\\sigma_{XY}} $$\n",
    "\n",
    "where $\\sigma^2_X = Var(X)$, $\\sigma^2_Y = Var(Y)$, and $\\sigma_{XY} = Cov(X,Y).$\n",
    "\n",
    "The qunatities $\\sigma^2_X$, $\\sigma^2_Y$, and $\\sigma_{XY}$ are unknown. \n",
    "\n",
    "We can compute estimates for these quantities $\\hat{\\sigma}^2_X$, $\\hat{\\sigma}^2_Y$, and $\\hat{\\sigma}_{XY}$ using a dataset that contains measurements for $X$ and $Y$. \n",
    "\n",
    "We can then estimate the value of $\\alpha$ that minimizes the variance of our investment using\n",
    "\n",
    "$$ \\hat{\\alpha} \\quad = \\quad \\frac{ \\hat{\\sigma}^2_Y - \\hat{\\sigma}_{XY}}{\\hat{\\sigma}^2_X + \\hat{\\sigma}^2_y -2\\hat{\\sigma}_{XY}} $$\n"
   ]
  },
  {
   "cell_type": "markdown",
   "metadata": {},
   "source": [
    "Here we've simulated 100 pairs of returns for X and Y"
   ]
  },
  {
   "cell_type": "code",
   "execution_count": 1,
   "metadata": {},
   "outputs": [
    {
     "name": "stdout",
     "output_type": "stream",
     "text": [
      "          X         Y\n",
      "0  0.099671 -0.040769\n",
      "1  0.036174  0.008968\n",
      "2  0.114769  0.012864\n",
      "3  0.202303 -0.010114\n",
      "4  0.026585  0.021936\n"
     ]
    }
   ],
   "source": [
    "import numpy as np\n",
    "import pandas as pd\n",
    "\n",
    "# Set the random seed for reproducibility\n",
    "np.random.seed(42)\n",
    "\n",
    "# Generate 100 pairs of returns for investments X and Y\n",
    "X = np.random.normal(loc=0.05, scale=0.1, size=100)\n",
    "Y = np.random.normal(loc=0.03, scale=0.05, size=100)\n",
    "\n",
    "# Create a DataFrame to store the returns\n",
    "returns_df = pd.DataFrame({'X': X, 'Y': Y})\n",
    "print(returns_df.head())"
   ]
  },
  {
   "cell_type": "markdown",
   "metadata": {},
   "source": [
    "Now we plug the results into the given formula to calculate $\\alpha$ for our dataset"
   ]
  },
  {
   "cell_type": "code",
   "execution_count": 2,
   "metadata": {},
   "outputs": [
    {
     "name": "stdout",
     "output_type": "stream",
     "text": [
      "Alpha: 0.2447657805118273\n"
     ]
    }
   ],
   "source": [
    "import numpy as np\n",
    "\n",
    "# Compute variance of X and Y\n",
    "sigma_X_squared = returns_df['X'].var()\n",
    "sigma_Y_squared = returns_df['Y'].var()\n",
    "\n",
    "# Compute covariance of X and Y\n",
    "sigma_XY = returns_df['X'].cov(returns_df['Y'])\n",
    "\n",
    "# Compute alpha using the formula\n",
    "alpha = (sigma_Y_squared - sigma_XY) / (sigma_X_squared + sigma_Y_squared - 2 * sigma_XY)\n",
    "\n",
    "print(f\"Alpha: {alpha}\")"
   ]
  },
  {
   "cell_type": "markdown",
   "metadata": {},
   "source": [
    "Now let's simulate returns for $X$ and $Y$ 1000 times and calculate the mean of $\\alpha$ over our simulation."
   ]
  },
  {
   "cell_type": "code",
   "execution_count": 3,
   "metadata": {},
   "outputs": [
    {
     "name": "stdout",
     "output_type": "stream",
     "text": [
      "Mean of alpha estimates: 0.2436083306257431\n",
      "Standard deviation of alpha estimates: 0.03872856337328258\n"
     ]
    }
   ],
   "source": [
    "# Function to compute alpha\n",
    "def compute_alpha(df):\n",
    "    sigma_X_squared = df['X'].var()\n",
    "    sigma_Y_squared = df['Y'].var()\n",
    "    sigma_XY = df['X'].cov(df['Y'])\n",
    "    alpha = (sigma_Y_squared - sigma_XY) / (sigma_X_squared + sigma_Y_squared - 2 * sigma_XY)\n",
    "    return alpha\n",
    "\n",
    "# Bootstrap to simulate 1000 estimates for alpha\n",
    "n_iterations = 1000\n",
    "alpha_estimates = []\n",
    "\n",
    "for _ in range(n_iterations):\n",
    "    sample_df = returns_df.sample(n=len(returns_df), replace=True)\n",
    "    alpha_estimate = compute_alpha(sample_df)\n",
    "    alpha_estimates.append(alpha_estimate)\n",
    "\n",
    "alpha_estimates = np.array(alpha_estimates)\n",
    "print(f\"Mean of alpha estimates: {alpha_estimates.mean()}\")\n",
    "print(f\"Standard deviation of alpha estimates: {alpha_estimates.std()}\")"
   ]
  },
  {
   "cell_type": "markdown",
   "metadata": {},
   "source": [
    "and finally, let's create a histogram of our estimates"
   ]
  },
  {
   "cell_type": "code",
   "execution_count": 4,
   "metadata": {},
   "outputs": [
    {
     "data": {
      "image/png": "[encoded data removed]",
      "text/plain": [
       "<Figure size 640x480 with 1 Axes>"
      ]
     },
     "metadata": {},
     "output_type": "display_data"
    }
   ],
   "source": [
    "import matplotlib.pyplot as plt\n",
    "\n",
    "# Create a histogram of the alpha estimates\n",
    "plt.hist(alpha_estimates, bins=30, edgecolor='black')\n",
    "plt.title('Histogram of Alpha Estimates')\n",
    "plt.xlabel('Alpha')\n",
    "plt.ylabel('Frequency')\n",
    "plt.show()"
   ]
  },
  {
   "cell_type": "markdown",
   "metadata": {},
   "source": []
  }
 ],
 "metadata": {
  "kernelspec": {
   "display_name": "base",
   "language": "python",
   "name": "python3"
  },
  "language_info": {
   "codemirror_mode": {
    "name": "ipython",
    "version": 3
   },
   "file_extension": ".py",
   "mimetype": "text/x-python",
   "name": "python",
   "nbconvert_exporter": "python",
   "pygments_lexer": "ipython3",
   "version": "3.11.7"
  }
 },
 "nbformat": 4,
 "nbformat_minor": 2
}
