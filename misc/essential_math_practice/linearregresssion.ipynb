{
 "cells": [
  {
   "cell_type": "markdown",
   "metadata": {},
   "source": [
    "## Matrix Decomposition\n",
    "\n",
    "WHen you have a lot of data with a lot of dimensions, computers can start to choke and produce unstable results. This is a use case for matrix decomposition.\n",
    "\n",
    "In this specific example, we take our matrix $X$, append an additional column of 1s to generate the intercept $\\beta_0$  and teh dcompos it into two component matrices $Q$ and $R$:\n",
    "\n",
    "$X \\quad = \\quad Q \\cdot R$\n",
    "\n",
    "Here is how we use $Q$ and $R$ to find the beta coefficient values in the matrix form $b$:\n",
    "\n",
    "$b \\quad = \\quad R^{-1} \\cdot Q^T \\cdot y$\n",
    "\n",
    "This example shows how we use the preceding $QR$ decomposition formula using NumPy to perform a linear regression: "
   ]
  },
  {
   "cell_type": "code",
   "execution_count": 10,
   "metadata": {},
   "outputs": [
    {
     "name": "stdout",
     "output_type": "stream",
     "text": [
      "[1.93939394 4.73333333]\n"
     ]
    }
   ],
   "source": [
    "import pandas as pd\n",
    "import numpy as np\n",
    "from numpy.linalg import qr, inv\n",
    "\n",
    "#import points\n",
    "df = pd.read_csv('https://bit.ly/3goOAnt', delimiter = \",\")\n",
    "\n",
    "# Extract input variables (all rows, all columns but last column)\n",
    "X = df.values[:, :-1].flatten()\n",
    "\n",
    "# Add placeholder \"1\" column to generate intercept\n",
    "X_1 = np.vstack([X, np.ones(len(X))]).transpose()\n",
    "\n",
    "# Extract output column (all rows, last column)\n",
    "Y = df.values[:, -1]\n",
    "\n",
    "# calculate coefficents for slope and intercept\n",
    "# using QR decomposition\n",
    "Q, R = qr(X_1)\n",
    "b = inv(R).dot(Q.transpose()).dot(Y)\n",
    "\n",
    "print(b)\n"
   ]
  },
  {
   "cell_type": "markdown",
   "metadata": {},
   "source": [
    "Typically, QR decomposition is the method used by many scientific libraries because it copes with large amounts of data more easily because it copes with large amounts of data more easily and is more stable. \n",
    "\n",
    "*Numerical Stability* is how well an algorithm keeps errors minimized, rather than amplifying errors in approximations."
   ]
  },
  {
   "cell_type": "markdown",
   "metadata": {},
   "source": [
    "## Gradient Descent\n",
    "\n",
    "*Gradient Descent* is an optimization technique that uses derivatives and iterations to minimize/maximize a set of parameters "
   ]
  }
 ],
 "metadata": {
  "kernelspec": {
   "display_name": "Python (uv)",
   "language": "python",
   "name": "uv"
  },
  "language_info": {
   "codemirror_mode": {
    "name": "ipython",
    "version": 3
   },
   "file_extension": ".py",
   "mimetype": "text/x-python",
   "name": "python",
   "nbconvert_exporter": "python",
   "pygments_lexer": "ipython3",
   "version": "3.11.7"
  }
 },
 "nbformat": 4,
 "nbformat_minor": 2
}
